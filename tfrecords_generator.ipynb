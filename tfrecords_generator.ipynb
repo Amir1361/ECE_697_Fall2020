{
 "cells": [
  {
   "cell_type": "markdown",
   "metadata": {},
   "source": [
    "`Course Instructor`: **John Chiasson**\n",
    "\n",
    "`Author (TA)`: **Ruthvik Vaila**\n",
    "\n",
    "# Note\n",
    "* Here we shall see the effect of iterator and generator while streaming data into a model using `.tfrecord`.\n",
    "* Learn more about Python [generator](https://towardsdatascience.com/python-generators-393455aa48a3), [iterators](https://anandology.com/python-practice-book/iterators.html).\n",
    "* Keep an eye on RAM usage when compared to iterator way of training a NN.\n",
    "* Tested on `Python 3.7.5` with `Tensorflow 1.15.0` and `Keras 2.2.4`. \n",
    "* Tested on `Python 2.7.17` with `Tensorflow 1.15.3` and `Keras 2.2.4`."
   ]
  },
  {
   "cell_type": "markdown",
   "metadata": {},
   "source": [
    "# Imports"
   ]
  },
  {
   "cell_type": "code",
   "execution_count": 1,
   "metadata": {},
   "outputs": [
    {
     "data": {
      "text/plain": [
       "'3.7.5 (default, Nov  7 2019, 10:50:52) \\n[GCC 8.3.0]'"
      ]
     },
     "execution_count": 1,
     "metadata": {},
     "output_type": "execute_result"
    }
   ],
   "source": [
    "import sys\n",
    "sys.version"
   ]
  },
  {
   "cell_type": "code",
   "execution_count": 2,
   "metadata": {},
   "outputs": [],
   "source": [
    "import tensorflow as tf\n",
    "#tf.compat.v1.enable_eager_execution()\n",
    "from tensorflow.python import keras as keras\n",
    "from tensorflow.python.client import device_lib\n",
    "import numpy as np\n",
    "import sys, pickle, os\n",
    "import h5py, time, inspect\n",
    "import IPython.display as display\n",
    "import IPython\n",
    "config = tf.ConfigProto()\n",
    "config.gpu_options.allow_growth=True"
   ]
  },
  {
   "cell_type": "code",
   "execution_count": 3,
   "metadata": {},
   "outputs": [
    {
     "data": {
      "text/plain": [
       "[name: \"/device:CPU:0\"\n",
       " device_type: \"CPU\"\n",
       " memory_limit: 268435456\n",
       " locality {\n",
       " }\n",
       " incarnation: 12055725098772028220,\n",
       " name: \"/device:XLA_CPU:0\"\n",
       " device_type: \"XLA_CPU\"\n",
       " memory_limit: 17179869184\n",
       " locality {\n",
       " }\n",
       " incarnation: 5635111993675007370\n",
       " physical_device_desc: \"device: XLA_CPU device\",\n",
       " name: \"/device:XLA_GPU:0\"\n",
       " device_type: \"XLA_GPU\"\n",
       " memory_limit: 17179869184\n",
       " locality {\n",
       " }\n",
       " incarnation: 4951416259726132291\n",
       " physical_device_desc: \"device: XLA_GPU device\",\n",
       " name: \"/device:GPU:0\"\n",
       " device_type: \"GPU\"\n",
       " memory_limit: 7400190772\n",
       " locality {\n",
       "   bus_id: 1\n",
       "   links {\n",
       "   }\n",
       " }\n",
       " incarnation: 5740985474596317195\n",
       " physical_device_desc: \"device: 0, name: GeForce RTX 2080 with Max-Q Design, pci bus id: 0000:01:00.0, compute capability: 7.5\"]"
      ]
     },
     "execution_count": 3,
     "metadata": {},
     "output_type": "execute_result"
    }
   ],
   "source": [
    "device_lib.list_local_devices()"
   ]
  },
  {
   "cell_type": "code",
   "execution_count": 4,
   "metadata": {},
   "outputs": [
    {
     "data": {
      "text/plain": [
       "'1.15.0'"
      ]
     },
     "execution_count": 4,
     "metadata": {},
     "output_type": "execute_result"
    }
   ],
   "source": [
    "tf.__version__"
   ]
  },
  {
   "cell_type": "code",
   "execution_count": 5,
   "metadata": {},
   "outputs": [
    {
     "data": {
      "text/plain": [
       "'2.2.4-tf'"
      ]
     },
     "execution_count": 5,
     "metadata": {},
     "output_type": "execute_result"
    }
   ],
   "source": [
    "keras.__version__"
   ]
  },
  {
   "cell_type": "markdown",
   "metadata": {},
   "source": [
    "# `Batch_Size` and `Buffer_Size` setting"
   ]
  },
  {
   "cell_type": "code",
   "execution_count": 6,
   "metadata": {},
   "outputs": [],
   "source": [
    "BATCH_SIZE = 32\n",
    "SHUFFLE_BUFFER = BATCH_SIZE**2\n",
    "EPOCHS = 3\n",
    "STEPS_PER_EPOCH = 112799 / BATCH_SIZE # number of batches per epoch."
   ]
  },
  {
   "cell_type": "markdown",
   "metadata": {},
   "source": [
    "# Parser"
   ]
  },
  {
   "cell_type": "code",
   "execution_count": 7,
   "metadata": {},
   "outputs": [],
   "source": [
    "def parser(record):\n",
    "    image_feature_description = {\n",
    "    'label': tf.io.FixedLenFeature([], tf.int64),\n",
    "    'image_raw': tf.io.VarLenFeature(tf.float32),\n",
    "    }\n",
    "    parsed = tf.io.parse_single_example(record, image_feature_description)\n",
    "    \n",
    "    image = parsed['image_raw']\n",
    "    image = tf.sparse.to_dense(image,default_value = 0)\n",
    "    label = tf.cast(parsed[\"label\"], tf.int32)\n",
    "    \n",
    "    #return {\"image_data\": image}, label\n",
    "    return image, label\n",
    "    "
   ]
  },
  {
   "cell_type": "markdown",
   "metadata": {},
   "source": [
    "# Model"
   ]
  },
  {
   "cell_type": "code",
   "execution_count": 8,
   "metadata": {},
   "outputs": [],
   "source": [
    "#Combine it with keras\n",
    "def smol_model(inputs=None, outputs=None):\n",
    "    model_input = keras.layers.Input(tensor=inputs)\n",
    "\n",
    "    #Build your network\n",
    "    model_output = keras.layers.Dense(1500,activation='relu')(model_input)\n",
    "    model_output = keras.layers.Dense(47,activation='softmax')(model_output)\n",
    "\n",
    "    #Create your model\n",
    "    train_model = keras.models.Model(inputs=model_input, outputs=model_output)\n",
    "\n",
    "    #Compile your model\n",
    "    train_model.compile(optimizer=keras.optimizers.RMSprop(lr=0.0001),\n",
    "                        loss='mean_squared_error',\n",
    "                        metrics=['accuracy'],\n",
    "                        target_tensors=[outputs])\n",
    "    return train_model"
   ]
  },
  {
   "cell_type": "markdown",
   "metadata": {},
   "source": [
    "# Training using `.tfrecords` and `tf.keras.model.fit_generator`\n",
    "* [Source](https://stackoverflow.com/questions/55243016/training-keras-model-with-fit-generator-and-tfrecords)"
   ]
  },
  {
   "cell_type": "code",
   "execution_count": 9,
   "metadata": {},
   "outputs": [],
   "source": [
    "def create_dataset_generator(path='',shuffle_buffer_size=None, batch_size=None, compression='GZIP', mode='train'):\n",
    "    filenames = [file for file in os.listdir(os.path.join(os.getcwd(), path)) if file.endswith('.tfrecord')]\n",
    "    filenames = [os.path.join(path, file) for file in filenames]\n",
    "    \n",
    "    # This works with arrays as well\n",
    "    dataset = tf.data.TFRecordDataset(filenames, compression_type=compression)\n",
    "    \n",
    "    # Maps the parser on every filepath in the array. You can set the number of parallel loaders here\n",
    "    dataset = dataset.map(parser, num_parallel_calls=8)\n",
    "    \n",
    "    # This dataset will go on forever\n",
    "    dataset = dataset.repeat()\n",
    "        \n",
    "    # Set the number of datapoints you want to load and shuffle\n",
    "    #if(mode=='train'):\n",
    "    \n",
    "    dataset = dataset.shuffle(shuffle_buffer_size)\n",
    "    \n",
    "    # Set the batchsize\n",
    "    dataset = dataset.batch(batch_size)\n",
    "    \n",
    "    # Create an iterator\n",
    "    iterator = dataset.make_one_shot_iterator()\n",
    "    \n",
    "    # Create your tf representation of the iterator\n",
    "    image, label = iterator.get_next()\n",
    "\n",
    "    # Bring your picture back in shape\n",
    "    image = tf.reshape(image, [batch_size, 3630])\n",
    "    \n",
    "    # Create a one hot array for your labels\n",
    "    label = tf.one_hot(label, 47)\n",
    "    \n",
    "    #return image, label\n",
    "    while True:\n",
    "        yield image, label"
   ]
  },
  {
   "cell_type": "code",
   "execution_count": 10,
   "metadata": {},
   "outputs": [
    {
     "name": "stdout",
     "output_type": "stream",
     "text": [
      "<generator object create_dataset_generator at 0x7f8cadbe56d0>\n"
     ]
    }
   ],
   "source": [
    "print(create_dataset_generator('40_tfrecords/train',SHUFFLE_BUFFER, BATCH_SIZE))"
   ]
  },
  {
   "cell_type": "code",
   "execution_count": 11,
   "metadata": {},
   "outputs": [
    {
     "name": "stdout",
     "output_type": "stream",
     "text": [
      "WARNING:tensorflow:From <ipython-input-9-5f484526721e>:23: DatasetV1.make_one_shot_iterator (from tensorflow.python.data.ops.dataset_ops) is deprecated and will be removed in a future version.\n",
      "Instructions for updating:\n",
      "Use `for ... in dataset:` to iterate over a dataset. If using `tf.estimator`, return the `Dataset` object directly from your input function. As a last resort, you can use `tf.compat.v1.data.make_one_shot_iterator(dataset)`.\n"
     ]
    }
   ],
   "source": [
    "#Get your datatensors\n",
    "image, label = next(create_dataset_generator('40_tfrecords/train',SHUFFLE_BUFFER, BATCH_SIZE))"
   ]
  },
  {
   "cell_type": "code",
   "execution_count": 12,
   "metadata": {},
   "outputs": [
    {
     "name": "stdout",
     "output_type": "stream",
     "text": [
      "WARNING:tensorflow:From /home/visionteam/python37_env/lib/python3.7/site-packages/tensorflow_core/python/ops/resource_variable_ops.py:1630: calling BaseResourceVariable.__init__ (from tensorflow.python.ops.resource_variable_ops) with constraint is deprecated and will be removed in a future version.\n",
      "Instructions for updating:\n",
      "If using Keras pass *_constraint arguments to layers.\n",
      "Model: \"model\"\n",
      "_________________________________________________________________\n",
      "Layer (type)                 Output Shape              Param #   \n",
      "=================================================================\n",
      "input_1 (InputLayer)         [(32, 3630)]              0         \n",
      "_________________________________________________________________\n",
      "dense (Dense)                (32, 1500)                5446500   \n",
      "_________________________________________________________________\n",
      "dense_1 (Dense)              (32, 47)                  70547     \n",
      "=================================================================\n",
      "Total params: 5,517,047\n",
      "Trainable params: 5,517,047\n",
      "Non-trainable params: 0\n",
      "_________________________________________________________________\n"
     ]
    }
   ],
   "source": [
    "train_model = smol_model(inputs=image, outputs=label)\n",
    "train_model.summary()"
   ]
  },
  {
   "cell_type": "markdown",
   "metadata": {},
   "source": [
    "# Start training the model"
   ]
  },
  {
   "cell_type": "code",
   "execution_count": 13,
   "metadata": {},
   "outputs": [
    {
     "name": "stdout",
     "output_type": "stream",
     "text": [
      "Epoch 1/3\n",
      "3525/3524 [==============================] - 16s 5ms/step - loss: 0.0095 - acc: 0.7015\n",
      "Epoch 2/3\n",
      "3525/3524 [==============================] - 16s 4ms/step - loss: 0.0050 - acc: 0.8521\n",
      "Epoch 3/3\n",
      "3525/3524 [==============================] - 16s 4ms/step - loss: 0.0034 - acc: 0.8997\n"
     ]
    },
    {
     "data": {
      "text/plain": [
       "<tensorflow.python.keras.callbacks.History at 0x7f8cadbe4d10>"
      ]
     },
     "execution_count": 13,
     "metadata": {},
     "output_type": "execute_result"
    }
   ],
   "source": [
    "#Train the model\n",
    "generator = create_dataset_generator('40_tfrecords/train',SHUFFLE_BUFFER, BATCH_SIZE)\n",
    "train_model.fit_generator(generator=generator, epochs=EPOCHS, max_queue_size=1000,\n",
    "                          steps_per_epoch=STEPS_PER_EPOCH)"
   ]
  },
  {
   "cell_type": "markdown",
   "metadata": {},
   "source": [
    "# Test the model"
   ]
  },
  {
   "cell_type": "markdown",
   "metadata": {},
   "source": [
    "* Evaluating at small batch sizes (same as training)"
   ]
  },
  {
   "cell_type": "code",
   "execution_count": 14,
   "metadata": {},
   "outputs": [
    {
     "data": {
      "text/plain": [
       "[0.0028191369458928674, 0.9169324]"
      ]
     },
     "execution_count": 14,
     "metadata": {},
     "output_type": "execute_result"
    }
   ],
   "source": [
    "#Test the model\n",
    "BATCH_SIZE = 32\n",
    "STEPS = 18800/BATCH_SIZE  # number of batches per epoch.\n",
    "SHUFFLE_BUFFER = BATCH_SIZE**2\n",
    "generator = create_dataset_generator('40_tfrecords/test', SHUFFLE_BUFFER, BATCH_SIZE,mode='test')\n",
    "train_model.evaluate_generator(generator=generator, steps=STEPS)"
   ]
  },
  {
   "cell_type": "markdown",
   "metadata": {},
   "source": [
    "* Evaluating all of the test data at once."
   ]
  },
  {
   "cell_type": "code",
   "execution_count": 15,
   "metadata": {},
   "outputs": [
    {
     "data": {
      "text/plain": [
       "[0.004615416284650564, 0.875]"
      ]
     },
     "execution_count": 15,
     "metadata": {},
     "output_type": "execute_result"
    }
   ],
   "source": [
    "#Test the model\n",
    "BATCH_SIZE = 18800\n",
    "STEPS = 18800/BATCH_SIZE  # number of batches per epoch.\n",
    "SHUFFLE_BUFFER = BATCH_SIZE**2\n",
    "generator = create_dataset_generator('40_tfrecords/test', SHUFFLE_BUFFER, BATCH_SIZE,mode='test')\n",
    "train_model.evaluate_generator(generator=generator, steps=STEPS)"
   ]
  },
  {
   "cell_type": "markdown",
   "metadata": {},
   "source": [
    "* There is a small discrepency in the two accuracies, try to find out why is that happening. "
   ]
  },
  {
   "cell_type": "markdown",
   "metadata": {},
   "source": [
    "# Restart the network to free up the `GPU` and `RAM`."
   ]
  },
  {
   "cell_type": "code",
   "execution_count": 16,
   "metadata": {},
   "outputs": [
    {
     "data": {
      "text/plain": [
       "{'status': 'ok', 'restart': True}"
      ]
     },
     "execution_count": 16,
     "metadata": {},
     "output_type": "execute_result"
    }
   ],
   "source": [
    "IPython.Application.instance().kernel.do_shutdown(True) #automatically restarts kernel"
   ]
  },
  {
   "cell_type": "markdown",
   "metadata": {},
   "source": [
    "# Exercise: Log the RAM usage for the three cases.\n",
    "* How the RAM usage varies when training the model using an iterators of `.tfrecord` vs direct `NumPy` array vs using a generator of `tfrecords`.\n",
    "* How does the speed vary?\n",
    "* Plot various metrics like `training cost vs epochs`, `training accuracy vs epochs` etc. These metrics can be found in the dictionary `history` returned by the model."
   ]
  },
  {
   "cell_type": "code",
   "execution_count": null,
   "metadata": {},
   "outputs": [],
   "source": []
  }
 ],
 "metadata": {
  "kernelspec": {
   "display_name": "python37_env",
   "language": "python",
   "name": "python37_env"
  },
  "language_info": {
   "codemirror_mode": {
    "name": "ipython",
    "version": 3
   },
   "file_extension": ".py",
   "mimetype": "text/x-python",
   "name": "python",
   "nbconvert_exporter": "python",
   "pygments_lexer": "ipython3",
   "version": "3.7.5"
  },
  "toc": {
   "base_numbering": 1,
   "nav_menu": {},
   "number_sections": true,
   "sideBar": true,
   "skip_h1_title": false,
   "title_cell": "Table of Contents",
   "title_sidebar": "Contents",
   "toc_cell": false,
   "toc_position": {
    "height": "calc(100% - 180px)",
    "left": "10px",
    "top": "150px",
    "width": "370.6px"
   },
   "toc_section_display": true,
   "toc_window_display": true
  }
 },
 "nbformat": 4,
 "nbformat_minor": 2
}
