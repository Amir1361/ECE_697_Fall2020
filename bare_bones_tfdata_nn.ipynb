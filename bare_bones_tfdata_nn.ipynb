{
 "cells": [
  {
   "cell_type": "markdown",
   "metadata": {},
   "source": [
    "`Course Instructor`: **John Chiasson**\n",
    "\n",
    "`Author (TA)`: **Ruthvik Vaila**\n",
    "\n",
    "## Notes\n",
    "* This notebook has implementations of `Backprop`, `feedback alignment` (random backprop), `direct feedback alignment` and `feedforward` updates for a neural net with 1 hidden layer, `softmax` and `tanh/sigmoid` activations for output and hidden layers respectively  and `cross entropy` function. In this case we code backprop using the final update equations. You can see below that when the weights of the random fixed matrix are initialized using `tf.truncated_normal` then the performance is poor. (in this case see `fa` section). If `tf.random_uniform` with `golort` settings then the network performs better. See `dfa` section. HERE WE WILL USE tf.data API. And we will use spike features and we will also use spike count for error backprop. Here the shape of the inputs is `[None, n_input]` instead of `[n_ibput, None]`. We had to do this because nested elements in `from_tensor_slices` must have the same dimension in 0th rank [see](https://stackoverflow.com/questions/49579684/what-is-the-difference-between-dataset-from-tensors-and-dataset-from-tensor-slic). Everytime an iterator `iter = dataset.make_initializable_iterator()` gets initialized, the dataset is randomly shuffled so we need not shuffle again, [see](https://stackoverflow.com/questions/49579684/what-is-the-difference-between-dataset-from-tensors-and-dataset-from-tensor-slic). \n",
    "## References\n",
    "* [Neural Nets](http://neuralnetworksanddeeplearning.com/chap3.html)\n",
    "* [Randombackprop](https://github.com/xuexue/randombp/blob/master/randombp.py)\n",
    "* [Randombackprop](https://github.com/sangyi92/feedback_alignment/blob/master/RFA.ipynb)\n",
    "* [Backprop](http://blog.aloni.org/posts/backprop-with-tensorflow/)\n",
    "* [Initializers](https://towardsdatascience.com/hyper-parameters-in-action-part-ii-weight-initializers-35aee1a28404)\n",
    "* [Dropout](https://github.com/pinae/TensorFlow-MNIST-example/blob/master/fully-connected.py)\n",
    "* [Softmax](https://stackoverflow.com/questions/34240703/what-is-logits-softmax-and-softmax-cross-entropy-with-logits)\n",
    "* [SoftmaxLogits](https://www.tensorflow.org/api_docs/python/tf/nn/softmax_cross_entropy_with_logits)\n",
    "* Tested on `Python 3.7.5` with `Tensorflow 1.15.0` and `Keras 2.2.4`. \n",
    "* Tested on `Python 2.7.17` with `Tensorflow 1.15.3` and `Keras 2.2.4`."
   ]
  },
  {
   "cell_type": "code",
   "execution_count": 1,
   "metadata": {},
   "outputs": [
    {
     "data": {
      "text/plain": [
       "'3.7.5 (default, Nov  7 2019, 10:50:52) \\n[GCC 8.3.0]'"
      ]
     },
     "execution_count": 1,
     "metadata": {},
     "output_type": "execute_result"
    }
   ],
   "source": [
    "import sys\n",
    "sys.version"
   ]
  },
  {
   "cell_type": "code",
   "execution_count": 10,
   "metadata": {},
   "outputs": [],
   "source": [
    "import os, time\n",
    "#os.environ[\"CUDA_VISIBLE_DEVICES\"]=\"-1\"\n",
    "import matplotlib.pyplot as plt\n",
    "import matplotlib as mpl\n",
    "import tensorflow as tf\n",
    "from IPython.display import display, HTML\n",
    "tf.compat.v2.random.set_seed(0)\n",
    "from tensorflow.examples.tutorials.mnist import input_data\n",
    "from tensorflow.python.client import timeline\n",
    "import h5py, pickle, IPython\n",
    "from keras.utils.np_utils import to_categorical \n",
    "import numpy as np\n",
    "import random, sys, time\n",
    "%load_ext tensorboard"
   ]
  },
  {
   "cell_type": "code",
   "execution_count": 3,
   "metadata": {},
   "outputs": [
    {
     "name": "stdout",
     "output_type": "stream",
     "text": [
      "1.15.0\n"
     ]
    },
    {
     "data": {
      "text/plain": [
       "<module 'tensorflow' from '/home/visionteam/python37_env/lib/python3.7/site-packages/tensorflow/__init__.py'>"
      ]
     },
     "execution_count": 3,
     "metadata": {},
     "output_type": "execute_result"
    }
   ],
   "source": [
    "os.environ['TF_CPP_MIN_LOG_LEVEL'] = '3'\n",
    "tf.compat.v1.logging.set_verbosity(tf.compat.v1.logging.ERROR)\n",
    "print(tf.__version__)\n",
    "tf"
   ]
  },
  {
   "cell_type": "markdown",
   "metadata": {},
   "source": [
    "## Hide code"
   ]
  },
  {
   "cell_type": "code",
   "execution_count": 5,
   "metadata": {},
   "outputs": [
    {
     "data": {
      "text/html": [
       "<script>\n",
       "code_show=true; \n",
       "function code_toggle() {\n",
       "if (code_show){\n",
       "$('div.input').hide();\n",
       "} else {\n",
       "$('div.input').show();\n",
       "}\n",
       "code_show = !code_show\n",
       "} \n",
       "$( document ).ready(code_toggle);\n",
       "</script>\n",
       "<form action=\"javascript:code_toggle()\"><input type=\"submit\" value=\"Click here to toggle on/off the raw code.\"></form>"
      ],
      "text/plain": [
       "<IPython.core.display.HTML object>"
      ]
     },
     "execution_count": 5,
     "metadata": {},
     "output_type": "execute_result"
    }
   ],
   "source": [
    "HTML('''<script>\n",
    "code_show=true; \n",
    "function code_toggle() {\n",
    "if (code_show){\n",
    "$('div.input').hide();\n",
    "} else {\n",
    "$('div.input').show();\n",
    "}\n",
    "code_show = !code_show\n",
    "} \n",
    "$( document ).ready(code_toggle);\n",
    "</script>\n",
    "<form action=\"javascript:code_toggle()\"><input type=\"submit\" value=\"Click here to toggle on/off the raw code.\"></form>''')"
   ]
  },
  {
   "cell_type": "markdown",
   "metadata": {},
   "source": [
    "## Plot settings"
   ]
  },
  {
   "cell_type": "code",
   "execution_count": 4,
   "metadata": {},
   "outputs": [],
   "source": [
    "mpl.rcParams['figure.figsize'] = 15,10\n",
    "mpl.rcParams['axes.titlesize'] = 24\n",
    "mpl.rcParams['axes.labelsize'] = 25\n",
    "mpl.rcParams['lines.linewidth'] = 2\n",
    "mpl.rcParams['lines.markersize'] = 10\n",
    "mpl.rcParams['xtick.labelsize'] = 30\n",
    "mpl.rcParams['ytick.labelsize'] = 22\n",
    "mpl.rcParams['legend.fontsize'] = 25"
   ]
  },
  {
   "cell_type": "markdown",
   "metadata": {},
   "source": [
    "## Load Data"
   ]
  },
  {
   "cell_type": "code",
   "execution_count": 5,
   "metadata": {},
   "outputs": [
    {
     "name": "stdout",
     "output_type": "stream",
     "text": [
      "Total train features:112799\n",
      "test features:18800\n",
      "Length of test labels:18800\n",
      "Length of valid images:10151\n",
      "Length of train images:102648\n",
      "Length of valid labels:10151\n",
      "Length of train labels:102648\n"
     ]
    }
   ],
   "source": [
    "num_classes = 47\n",
    "\n",
    "filename = 'data/emnist_train_x.h5'\n",
    "with h5py.File(filename, 'r') as hf:\n",
    "    emnist_train_images = hf['pool1_spike_features'][:].astype(np.int8)\n",
    "#emnist_train_images = theano.shared(emnist_train_images).dimshuffle(3,2,0,1).eval().reshape(1353588,-1)\n",
    "print('Total train features:{}'.format(emnist_train_images.shape[0]))\n",
    "\n",
    "\n",
    "filename = 'data/emnist_test_x.h5'\n",
    "with h5py.File(filename, 'r') as hf:\n",
    "    emnist_test_images = hf['pool1_spike_features'][:].astype(np.int8)\n",
    "#emnist_test_images = theano.shared(emnist_test_images).dimshuffle(3,2,0,1).eval().reshape(225600,-1)\n",
    "print('test features:{}'.format(emnist_test_images.shape[0]))\n",
    "\n",
    "\n",
    "filehandle = open('data/emnist_train_y.pkl','rb')\n",
    "emnist_train_labels = pickle.load(filehandle).astype(np.int).tolist()\n",
    "filehandle.close()\n",
    "emnist_train_labels = to_categorical(emnist_train_labels, num_classes=num_classes)\n",
    "\n",
    "\n",
    "filehandle = open('data/emnist_test_y.pkl','rb')\n",
    "emnist_test_labels = pickle.load(filehandle).astype(np.int)\n",
    "filehandle.close()\n",
    "emnist_test_labels = to_categorical(emnist_test_labels, num_classes=num_classes)\n",
    "print('Length of test labels:{}'.format(emnist_test_labels.shape[0]))\n",
    "n_images = len(emnist_train_images)\n",
    "\n",
    "\n",
    "emnist_valid_images = emnist_train_images[0:int(0.09*n_images)]\n",
    "print('Length of valid images:{}'.format(emnist_valid_images.shape[0]))\n",
    "emnist_train_images = emnist_train_images[int(0.09*n_images):]\n",
    "print('Length of train images:{}'.format(emnist_train_images.shape[0]))\n",
    "\n",
    "\n",
    "emnist_valid_labels = emnist_train_labels[0:int(0.09*n_images)]\n",
    "print('Length of valid labels:{}'.format(emnist_valid_labels.shape[0]))\n",
    "emnist_train_labels = emnist_train_labels[int(0.09*n_images):]\n",
    "print('Length of train labels:{}'.format(emnist_train_labels.shape[0]))\n",
    "n_train = emnist_train_labels.shape[0]\n",
    "n_test = emnist_test_labels.shape[0]\n",
    "n_valid = emnist_valid_labels.shape[0]\n",
    "\n",
    "all_train_images = emnist_train_images\n",
    "all_train_labels = emnist_train_labels"
   ]
  },
  {
   "cell_type": "markdown",
   "metadata": {},
   "source": [
    "batch_size = 5\n",
    "epochs = 10\n",
    "emnist_train_images = np.array_split(emnist_train_images, n_train/(batch_size))\n",
    "emnist_train_labels = np.array_split(emnist_train_labels, n_train/(batch_size))\n",
    "train_data = zip(emnist_train_images,emnist_train_labels)\n",
    "print('Total number of epochs:{}'.format(epochs))\n",
    "n_batches = len(train_data)\n",
    "print('Number of batches in an epoch:{}'.format(n_batches))"
   ]
  },
  {
   "cell_type": "markdown",
   "metadata": {},
   "source": [
    "## Open a session"
   ]
  },
  {
   "cell_type": "code",
   "execution_count": 6,
   "metadata": {},
   "outputs": [],
   "source": [
    "sess= tf.InteractiveSession()\n",
    "run_options = tf.RunOptions(trace_level=tf.RunOptions.FULL_TRACE)\n",
    "run_metadata = tf.RunMetadata()"
   ]
  },
  {
   "cell_type": "markdown",
   "metadata": {},
   "source": [
    "$tanh(x) = \\frac{(e^{x} – e^{-x})}{(e^{x} + e^{-x})}$\n",
    "\n",
    "$d\\frac{tanh(x)}{dx} = 1 – (tanh(x))^{2}$\n",
    "\n",
    "$\\sigma(x) = \\frac{1.0}{1 + e^{-x}}$\n",
    "\n",
    "$d\\frac{\\sigma(x)}{dx} = \\sigma(x)*(1 - \\sigma(x))$"
   ]
  },
  {
   "cell_type": "markdown",
   "metadata": {},
   "source": [
    "## Setup a graph"
   ]
  },
  {
   "cell_type": "code",
   "execution_count": 7,
   "metadata": {},
   "outputs": [],
   "source": [
    "n_input = 3630\n",
    "n_middle = 1200\n",
    "n_out = num_classes\n",
    "batch_size = tf.placeholder(tf.int64, name='batch_size') \n",
    "a_1 = tf.placeholder(tf.float32, [None, n_input], name = 'Input_batch')\n",
    "y = tf.placeholder(tf.float32, [None, n_out], name = 'output_batch')\n",
    "dataset = tf.data.Dataset.from_tensor_slices((a_1, y))\n",
    "#dataset = dataset.shuffle(buffer_size=len(all_train_labels), reshuffle_each_iteration=True)\n",
    "dataset = dataset.batch(batch_size)\n",
    "iter = dataset.make_initializable_iterator()\n",
    "features, labels = iter.get_next()\n",
    "eta = tf.placeholder(tf.float32)\n",
    "drop_out = tf.placeholder(tf.float32)\n",
    "with tf.name_scope('hid_lyr_w_b'):  ###havier or glorot initialization\n",
    "    low = -4*tf.math.sqrt(6.0/(n_input + n_middle)) # use 4 for sigmoid, 1 for tanh activation \n",
    "    high = 4*tf.math.sqrt(6.0/(n_input + n_middle))\n",
    "    \n",
    "    low = -tf.math.sqrt(2.0/(n_input)) # use 4 for sigmoid, 1 for tanh activation \n",
    "    high = tf.math.sqrt(2.0/(n_input))\n",
    "    \n",
    "    #w_2 = tf.Variable(tf.random_uniform(shape=[n_input,n_middle],minval=low,maxval=high), name = 'W_2')\n",
    "    w_2 = tf.Variable(tf.truncated_normal(shape=[n_input,n_middle], stddev=0.01),name = 'W_2')\n",
    "    tf.summary.histogram('w_2', w_2)\n",
    "    b_2 = tf.Variable(tf.zeros([1,n_middle]), name = 'b_2')\n",
    "    tf.summary.histogram('b_2', b_2)\n",
    "with tf.name_scope('op_lyr_w_b'):\n",
    "    \n",
    "    low = -tf.math.sqrt(2.0/(n_middle))\n",
    "    high = tf.math.sqrt(2.0/(n_middle))\n",
    "    #w_3 = tf.Variable(tf.random_uniform(shape=[n_middle,10],minval=low,maxval=high), name = 'W_3')\n",
    "    w_3 = tf.Variable(tf.truncated_normal(shape=[n_middle,n_out], stddev=0.01),name = 'W_3')\n",
    "    tf.summary.histogram('w_3', w_3)\n",
    "    b_3 = tf.Variable(tf.zeros([1,n_out]), name = 'b_3')\n",
    "    tf.summary.histogram('b_3', b_3)\n",
    "\n",
    "def sigma(x):\n",
    "    return tf.math.divide(tf.constant(1.0),\n",
    "                  tf.add(tf.constant(1.0), tf.exp(tf.negative(x))))\n",
    "def tanh(x):\n",
    "    return tf.math.divide(tf.subtract(tf.exp(x), tf.exp(tf.negative(x))), \n",
    "                          tf.add(tf.exp(x), tf.exp(tf.negative(x))) )\n",
    "\n",
    "def sigmaprime(x):\n",
    "    return tf.multiply(sigma(x), tf.subtract(tf.constant(1.0), sigma(x)))\n",
    "\n",
    "def tanhprime(x):\n",
    "    return tf.subtract(tf.constant(1.0),tf.square(tanh(x)))\n",
    "\n",
    "def spkNeuron(x):\n",
    "    return tf.where(tf.greater_equal(x,0.0), tf.ones_like(x), \n",
    "                        tf.zeros_like(x))\n",
    "\n",
    "def ReLU(x):\n",
    "    return tf.maximum(0.0, x)\n",
    "\n",
    "def ReLUprime(x):\n",
    "    return tf.where(tf.greater_equal(x,0.0), tf.ones_like(x), \n",
    "                        tf.zeros_like(x))\n",
    "\n",
    "with tf.name_scope('hid_lyr_acti'):\n",
    "    z_2 = tf.add(tf.matmul(features,w_2,name = 'w_2xa_1'), b_2, name = 'z_2')\n",
    "    locs_to_drop = tf.random.categorical(tf.math.log([[1.0-drop_out, drop_out]]), tf.size(z_2))\n",
    "    #locs_to_drop = tf.random.categorical(tf.math.log([[1.0-drop_out, drop_out]]),n_middle*batch_size )\n",
    "    #locs_to_drop = tf.reshape(locs_to_drop, z_2.shape)\n",
    "    #locs_to_drop = tf.reshape(locs_to_drop, [n_middle,batch_size])\n",
    "    locs_to_drop = tf.reshape(locs_to_drop, tf.shape(z_2))\n",
    "    z_2 = tf.where(locs_to_drop>0,-tf.ones_like(z_2),z_2, 'drop_out_app')\n",
    "    tf.summary.histogram('z_2', z_2)\n",
    "    a_2 = spkNeuron(z_2)\n",
    "    tf.summary.histogram('a_2', a_2)\n",
    "with tf.name_scope('op_lyr_acti'):\n",
    "    z_3 = tf.add(tf.matmul(a_2,w_3, name = 'w_3xa_2'),b_3, name = 'z_3')\n",
    "    tf.summary.histogram('z_3', z_3)\n",
    "    a_3  = spkNeuron(z_3) ##UNCOMMENT THIS LINE AND COMMENT ABOVE LINE IF YOU WANT spike SQUISHING\n",
    "    ##COMMENT THE ABOVE LINE AND UNCOMMENT BELOW LINE IF YOU WANT SOFTMAX\n",
    "    #a_3 = tf.nn.softmax(z_3,axis=1) ##AXIS IS VERY IMPORTANT!!! axis=1 INDICATES THE CLASSES AS y IS [None,10]\n",
    "\n",
    "#cost = tf.reduce_mean(-tf.reduce_sum(tf.multiply(a_3,tf.log(y)),axis=0), name = 'cost_calc') GIVES inf COST!!!\n",
    "#cost = tf.reduce_mean(-tf.reduce_sum((y*tf.log(a_3) +tf.log(1-a_3)*(1-y)) ,axis=0), name = 'cost_calc') WORKS, USE BELOW\n",
    "with tf.name_scope('cost_calc'):\n",
    "    #cost = tf.reduce_mean(tf.nn.softmax_cross_entropy_with_logits_v2(labels=labels,logits=z_3,axis=1),name = 'cost_calc')#WORKS\n",
    "    ##COMMENT BELOW LINES IF YOU WANT SOFTMAX\n",
    "    dc_da = -tf.subtract(labels,a_3, name = 'y_minus_a_3')\n",
    "    cost = tf.reduce_mean(tf.reduce_sum((1/2.0)*tf.square(dc_da),axis=1), name = 'cost_calc')\n",
    "    tf.summary.scalar('cost', cost)\n",
    "\n",
    "with tf.name_scope('op_lyr_grad'):\n",
    "    d_z_3 = -tf.subtract(labels,a_3, name = 'delta3')\n",
    "    #d_z_3 = tf.multiply(dc_da,a_3, name = 'delta3')\n",
    "    d_b_3 = d_z_3\n",
    "    tf.summary.histogram('d_b_3', d_b_3)\n",
    "    d_w_3 = tf.matmul(tf.transpose(a_2),d_z_3, name='delta_w3')\n",
    "    tf.summary.histogram('d_w_3', d_w_3)\n",
    "    \n",
    "with tf.name_scope('hid_lyr_grad'):\n",
    "    #d_z_2 = tf.multiply(tf.matmul(d_z_3,tf.transpose(w_3), name = 'w_3Txdelta3'), spkNeuron(z_2), name = 'delta2')\n",
    "    d_z_2 = tf.matmul(d_z_3,tf.transpose(w_3), name = 'delta2')\n",
    "    d_b_2 = d_z_2\n",
    "    tf.summary.histogram('d_b_2', d_b_2)\n",
    "    d_w_2 = tf.matmul(tf.transpose(features),d_z_2, name = 'delta_w2')\n",
    "    tf.summary.histogram('d_w_2', d_w_2)\n",
    "\n",
    "step = [\n",
    "    tf.assign(w_2,\n",
    "            tf.subtract(w_2, tf.multiply(eta/tf.cast(batch_size, tf.float32), d_w_2)))\n",
    "  , tf.assign(b_2,\n",
    "            tf.subtract(b_2, tf.multiply(eta,\n",
    "                               tf.expand_dims(tf.reduce_mean(d_b_2, axis=[0]),axis=0))))\n",
    "  , tf.assign(w_3,\n",
    "            tf.subtract(w_3, tf.multiply(eta/tf.cast(batch_size, tf.float32), d_w_3)))\n",
    "  , tf.assign(b_3,\n",
    "            tf.subtract(b_3, tf.multiply(eta,\n",
    "                               tf.expand_dims(tf.reduce_mean(d_b_3, axis=[0]),axis=0))))\n",
    "]\n",
    "\n",
    "with tf.name_scope('acc_calc'):\n",
    "    acct_mat = tf.equal(tf.argmax(a_3, 1), tf.argmax(labels, 1))\n",
    "    acct_res = tf.reduce_mean(tf.cast(acct_mat, tf.float32))\n",
    "    tf.summary.scalar('accuracy', acct_res)\n",
    "\n",
    "\n",
    "init_op = tf.global_variables_initializer()"
   ]
  },
  {
   "cell_type": "markdown",
   "metadata": {},
   "source": [
    "## Write the summary to disk"
   ]
  },
  {
   "cell_type": "code",
   "execution_count": 8,
   "metadata": {},
   "outputs": [],
   "source": [
    "path = '/home/visionteam/tf_tutorials/logs'\n",
    "merged = tf.summary.merge_all()\n",
    "train_writer = tf.summary.FileWriter(path + '/bb_tfdata_nn_train', sess.graph)"
   ]
  },
  {
   "cell_type": "markdown",
   "metadata": {},
   "source": [
    "## Load Tensorboard"
   ]
  },
  {
   "cell_type": "markdown",
   "metadata": {},
   "source": [
    "### Exercise\n",
    "* Click on the `DISTRIBUTIONS` and `HISTOGRAMS` to visualize the gradients and activations. Check for gradient explosion or vanishing gradients. Also check for internal covariate shift and take necessary measures."
   ]
  },
  {
   "cell_type": "code",
   "execution_count": 11,
   "metadata": {},
   "outputs": [
    {
     "data": {
      "text/plain": [
       "Reusing TensorBoard on port 6009 (pid 10468), started 0:21:18 ago. (Use '!kill 10468' to kill it.)"
      ]
     },
     "metadata": {},
     "output_type": "display_data"
    },
    {
     "data": {
      "text/html": [
       "\n",
       "      <iframe id=\"tensorboard-frame-51b51e3f723d2e33\" width=\"100%\" height=\"800\" frameborder=\"0\">\n",
       "      </iframe>\n",
       "      <script>\n",
       "        (function() {\n",
       "          const frame = document.getElementById(\"tensorboard-frame-51b51e3f723d2e33\");\n",
       "          const url = new URL(\"/\", window.location);\n",
       "          url.port = 6009;\n",
       "          frame.src = url;\n",
       "        })();\n",
       "      </script>\n",
       "  "
      ],
      "text/plain": [
       "<IPython.core.display.HTML object>"
      ]
     },
     "metadata": {},
     "output_type": "display_data"
    }
   ],
   "source": [
    "%tensorboard --logdir {path}"
   ]
  },
  {
   "cell_type": "markdown",
   "metadata": {},
   "source": [
    "### Exercise\n",
    "* Re-write the below cell to perform the experiment `iteration` number of times as in `bare_bones_tf_nn.ipynb` file.\n",
    "\n",
    "* You'll notice that there is a memory leak in GPU and it's because of the line in the below cell\n",
    "\n",
    "`best_step = [tf.assign(w_2,best_params[0][0]), tf.assign(b_2,best_params[0][1]),tf.assign(w_3,best_params[1][0]), tf.assign(b_3,best_params[1][1])]` \n",
    "\n",
    "* The above line was used to fix the weights of the network with the best validation weights to test on it.\n",
    "\n",
    "* Tensorflow sees that line as we are adding a new variable to tensorflow graph everytime we execute it. Instead we need to define an update operation in the above cell for each of the variables (biases and weights) and use that to update the weights and biases. Something like:\n",
    "    \n",
    "`w_2_update_placeholder = tf.placeholder(w_2.dtype, shape=w_2.get_shape(),name='update_w2') \n",
    " w_2_update_op = w_2.assign(w_2_update_placeholder)` \n",
    "      \n",
    "* And then use `sess.run(w_2_update_op, {w_2_update_placeholder:best_params[0][0]})` to re-wire the network. \n",
    "\n",
    "* For more info [see](https://github.com/tensorflow/tensorflow/issues/4151)\n"
   ]
  },
  {
   "cell_type": "code",
   "execution_count": 13,
   "metadata": {
    "scrolled": true
   },
   "outputs": [
    {
     "name": "stdout",
     "output_type": "stream",
     "text": [
      "Epoch:0\n",
      "training cost:12.119047164916992 and training accuracy:0.0227378997951746\n",
      "validation cost:12.109890937805176 and validation accuracy:0.022559354081749916\n",
      "Epoch:1\n",
      "training cost:0.25698989629745483 and training accuracy:0.6806854605674744\n",
      "validation cost:0.2977539300918579 and validation accuracy:0.6379666924476624\n",
      "Final test accuracy is:0.6542553305625916\n",
      "Test accuracy corresp to best val acc:0.6298936009407043\n",
      "Time taken:371.31771183013916\n"
     ]
    }
   ],
   "source": [
    "train_accuracies = []\n",
    "train_costs = []\n",
    "val_accuracies = []\n",
    "val_costs = []\n",
    "best_val = 0\n",
    "epochs = 2\n",
    "best_params = None\n",
    "BATCH_SIZE = 5\n",
    "logging_count = 0\n",
    "n_batches = int(len(all_train_images)/BATCH_SIZE)\n",
    "t1 = time.time()\n",
    "sess.run(init_op,options=run_options, run_metadata=run_metadata)\n",
    "for i in range(epochs):\n",
    "    \n",
    "    sess.run(iter.initializer, feed_dict={ a_1: all_train_images, y: all_train_labels,\n",
    "                                          batch_size: len(all_train_images)})\n",
    "    print('Epoch:{}'.format((i)))\n",
    "    \n",
    "    ### CALCULATE TRAIN COSTS AND TRAIN ACCURACIES\n",
    "    ## train cost\n",
    "    #summary, train_cost = sess.run([merged,cost], feed_dict = {a_1 : all_train_images.transpose(),\n",
    "    #                                            y : all_train_labels.transpose()})\n",
    "    #train_writer.add_summary(summary,i)  OOM ERROR\n",
    "    #train_cost, train_accuracy = sess.run([cost,acct_res] ,feed_dict = {drop_out : 0.0 ,a_1: all_train_images, \n",
    "    #                                      y: all_train_labels,batch_size: len(all_train_images)})\n",
    "    train_cost, train_accuracy = sess.run([cost,acct_res] ,feed_dict = {drop_out : 0.0})\n",
    "    train_costs.append(train_cost)\n",
    "    train_accuracies.append(train_accuracy)\n",
    "    \n",
    "    \n",
    "    print('training cost:{} and training accuracy:{}'.format(train_costs[i], train_accuracies[i]))\n",
    "\n",
    "    ### CALCULATE VALID COSTS AND VALID ACCURACIES\n",
    "    sess.run(iter.initializer, feed_dict={ a_1: emnist_valid_images, y: emnist_valid_labels,\n",
    "                                          batch_size: len(emnist_valid_images)})\n",
    "    ## valid cost\n",
    "    #summary, val_cost, val_acc = sess.run([merged,cost,acct_res], feed_dict = {drop_out : 0.0, a_1: emnist_valid_images, \n",
    "    #                                            y: emnist_valid_labels,batch_size: len(emnist_valid_images)} )\n",
    "    summary, val_cost, val_acc = sess.run([merged,cost,acct_res], feed_dict = {drop_out : 0.0})\n",
    "    val_costs.append(val_cost)\n",
    "    val_accuracies.append(val_acc)\n",
    "    \n",
    "    if(val_acc>best_val):\n",
    "        best_val = val_acc\n",
    "        best_params = [(w_2.eval(),b_2.eval()),(w_3.eval(),b_3.eval())]\n",
    "    \n",
    "    print('validation cost:{} and validation accuracy:{}'.format(val_cost, val_acc))   \n",
    "    \n",
    "    sess.run(iter.initializer, feed_dict={a_1: all_train_images, y: all_train_labels,\n",
    "                                          batch_size: BATCH_SIZE})\n",
    "    #START TRAINING\n",
    "    for j in range(n_batches):\n",
    "        if(not (np.isnan(w_2.eval().any() and np.isnan(w_3.eval()).any()))):\n",
    "            if(((j)% 1000 ==0)):\n",
    "                logging_count+=1\n",
    "                summary,_ = sess.run([merged,step], \n",
    "                                                 feed_dict = {drop_out:0.0,batch_size: BATCH_SIZE,eta:0.001})\n",
    "                train_writer.add_summary(summary, logging_count)\n",
    "            else:\n",
    "                sess.run([step],feed_dict = {drop_out:0.0,batch_size:BATCH_SIZE,eta:0.001})\n",
    "        else:\n",
    "            print('Nan encountered in epoch:{} and batch:{}'.format(i, j))\n",
    "        \n",
    "sess.run(iter.initializer, feed_dict={ a_1: emnist_test_images, y: emnist_test_labels,\n",
    "                                          batch_size: len(emnist_test_images)})\n",
    "test_acc = sess.run(acct_res, feed_dict = {drop_out:0.0})\n",
    "\n",
    "print('Final test accuracy is:{}'.format(test_acc))\n",
    "\n",
    "best_step = [tf.assign(w_2,best_params[0][0]), tf.assign(b_2,best_params[0][1]),tf.assign(w_3,best_params[1][0]),\\\n",
    "    tf.assign(b_3,best_params[1][1])]\n",
    "\n",
    "sess.run(best_step)\n",
    "sess.run(iter.initializer, feed_dict={ a_1: emnist_test_images, y: emnist_test_labels,\n",
    "                                          batch_size: len(emnist_test_images)})\n",
    "test_acc = sess.run(acct_res, feed_dict = {drop_out:0.0})\n",
    "\n",
    "print('Test accuracy corresp to best val acc:{}'.format(test_acc))\n",
    "print('Time taken:{}'.format(time.time()-t1))\n",
    "train_writer.close()\n"
   ]
  },
  {
   "cell_type": "markdown",
   "metadata": {},
   "source": [
    "## Plots"
   ]
  },
  {
   "cell_type": "code",
   "execution_count": 10,
   "metadata": {},
   "outputs": [
    {
     "data": {
      "image/png": "[encoded data removed]",
      "text/plain": [
       "<Figure size 1080x720 with 1 Axes>"
      ]
     },
     "metadata": {
      "needs_background": "light"
     },
     "output_type": "display_data"
    }
   ],
   "source": [
    "plt.plot(train_costs, label=\"Train Costs\")\n",
    "plt.plot(val_costs, label=\"Val Costs\")\n",
    "plt.xlabel('Epochs')\n",
    "plt.ylabel('Cost')\n",
    "plt.grid()\n",
    "plt.legend()\n",
    "plt.show()"
   ]
  },
  {
   "cell_type": "code",
   "execution_count": 11,
   "metadata": {},
   "outputs": [
    {
     "data": {
      "image/png": "[encoded data removed]",
      "text/plain": [
       "<Figure size 1080x720 with 1 Axes>"
      ]
     },
     "metadata": {
      "needs_background": "light"
     },
     "output_type": "display_data"
    }
   ],
   "source": [
    "plt.plot(train_accuracies, label=\"Train accuracies\")\n",
    "plt.plot(val_accuracies, label=\"Val accuracies\")\n",
    "plt.xlabel('Epochs')\n",
    "plt.ylabel('Accuracy')\n",
    "plt.yticks([0.01*i for i in range(1,101)])\n",
    "plt.ylim(0.75,1.02)\n",
    "plt.grid()\n",
    "plt.legend()\n",
    "plt.show()"
   ]
  },
  {
   "cell_type": "markdown",
   "metadata": {},
   "source": [
    "## Restart the network to free up the `GPU` and `RAM`"
   ]
  },
  {
   "cell_type": "code",
   "execution_count": 12,
   "metadata": {},
   "outputs": [
    {
     "ename": "NameError",
     "evalue": "name 'IPython' is not defined",
     "output_type": "error",
     "traceback": [
      "\u001b[0;31m---------------------------------------------------------------------------\u001b[0m",
      "\u001b[0;31mNameError\u001b[0m                                 Traceback (most recent call last)",
      "\u001b[0;32m<ipython-input-12-3e56dad865ee>\u001b[0m in \u001b[0;36m<module>\u001b[0;34m()\u001b[0m\n\u001b[0;32m----> 1\u001b[0;31m \u001b[0mIPython\u001b[0m\u001b[0;34m.\u001b[0m\u001b[0mApplication\u001b[0m\u001b[0;34m.\u001b[0m\u001b[0minstance\u001b[0m\u001b[0;34m(\u001b[0m\u001b[0;34m)\u001b[0m\u001b[0;34m.\u001b[0m\u001b[0mkernel\u001b[0m\u001b[0;34m.\u001b[0m\u001b[0mdo_shutdown\u001b[0m\u001b[0;34m(\u001b[0m\u001b[0mTrue\u001b[0m\u001b[0;34m)\u001b[0m \u001b[0;31m#automatically restarts kernel\u001b[0m\u001b[0;34m\u001b[0m\u001b[0m\n\u001b[0m",
      "\u001b[0;31mNameError\u001b[0m: name 'IPython' is not defined"
     ]
    }
   ],
   "source": [
    "IPython.Application.instance().kernel.do_shutdown(True) #automatically restarts kernel"
   ]
  },
  {
   "cell_type": "markdown",
   "metadata": {},
   "source": [
    "### Exercise\n",
    "* Read more about [chrome-tracing](https://towardsdatascience.com/howto-profile-tensorflow-1a49fb18073d) and implement it.\n",
    "* Do a hyper parameter study for learning rate ($\\eta$) and dropout. Generate 3 randomly generated values for both the hyper parameters between reasonable limits and take all the combinations and train 9 networks. Train each of the combination 5 times, make sure the initialized weights for all the 5 repetitions are different. Also, make sure that the same set of initialized weights are used across 9 combinations of hyperparameters. \n",
    "\n",
    "`Fix the numpy random seed\n",
    "Generate 5 different sets of random biases and weights numpy arrays.\n",
    "all_metrics = []\n",
    "for hyper_param in hyper_param_combo_set:\n",
    "    a_hyper_param_metrics = []\n",
    "    for a_set_of_weights in 5_sets_of_weights:\n",
    "         train_an_NN\n",
    "         a_hyper_param_metrics.append(metrics)\n",
    "    all_metrics.append(a_hyper_param_metrics)`"
   ]
  },
  {
   "cell_type": "code",
   "execution_count": null,
   "metadata": {},
   "outputs": [],
   "source": [
    "path = '/home/ruthvik/Desktop/Summer 2017/tf_graph_outputs/'\n",
    "writer = tf.summary.FileWriter(path, sess.graph)\n",
    "writer.flush()\n",
    "tl = timeline.Timeline(run_metadata.step_stats)\n",
    "ctf = tl.generate_chrome_trace_format()\n",
    "with open(path+'/timeline.json', 'w') as f:\n",
    "    f.write(ctf)\n",
    "\n",
    "\n",
    "writer.add_run_metadata(run_metadata, 'mysess')\n",
    "writer.flush()\n",
    "writer.close()"
   ]
  },
  {
   "cell_type": "code",
   "execution_count": null,
   "metadata": {},
   "outputs": [],
   "source": []
  }
 ],
 "metadata": {
  "kernelspec": {
   "display_name": "python37_env",
   "language": "python",
   "name": "python37_env"
  },
  "language_info": {
   "codemirror_mode": {
    "name": "ipython",
    "version": 3
   },
   "file_extension": ".py",
   "mimetype": "text/x-python",
   "name": "python",
   "nbconvert_exporter": "python",
   "pygments_lexer": "ipython3",
   "version": "3.7.5"
  },
  "toc": {
   "base_numbering": 1,
   "nav_menu": {},
   "number_sections": true,
   "sideBar": true,
   "skip_h1_title": true,
   "title_cell": "Table of Contents",
   "title_sidebar": "Contents",
   "toc_cell": false,
   "toc_position": {
    "height": "calc(100% - 180px)",
    "left": "10px",
    "top": "150px",
    "width": "181px"
   },
   "toc_section_display": true,
   "toc_window_display": true
  }
 },
 "nbformat": 4,
 "nbformat_minor": 2
}
