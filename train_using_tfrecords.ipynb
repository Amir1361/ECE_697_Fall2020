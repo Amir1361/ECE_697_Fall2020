{
 "cells": [
  {
   "cell_type": "markdown",
   "metadata": {},
   "source": [
    "`Course Instructor`: **John Chiasson**\n",
    "\n",
    "`Author (TA)`: **Ruthvik Vaila**\n",
    "\n",
    "# Notes:\n",
    "* In this notebook we shall use `.tfrecord` files to train a model.\n",
    "* While the model is training keep an eye on the time taken and RAM usage of your machine.\n",
    "* Tested on `Python 3.7.5` with `Tensorflow 1.15.0` and `Keras 2.2.4`. \n",
    "* Tested on `Python 2.7.17` with `Tensorflow 1.15.3` and `Keras 2.2.4`."
   ]
  },
  {
   "cell_type": "markdown",
   "metadata": {},
   "source": [
    "# Imports"
   ]
  },
  {
   "cell_type": "code",
   "execution_count": 1,
   "metadata": {},
   "outputs": [
    {
     "data": {
      "text/plain": [
       "'3.7.5 (default, Nov  7 2019, 10:50:52) \\n[GCC 8.3.0]'"
      ]
     },
     "execution_count": 1,
     "metadata": {},
     "output_type": "execute_result"
    }
   ],
   "source": [
    "import sys, os\n",
    "sys.version"
   ]
  },
  {
   "cell_type": "code",
   "execution_count": 2,
   "metadata": {},
   "outputs": [
    {
     "name": "stderr",
     "output_type": "stream",
     "text": [
      "Using TensorFlow backend.\n"
     ]
    }
   ],
   "source": [
    "import tensorflow as tf\n",
    "from tensorflow.python.client import device_lib\n",
    "import numpy as np\n",
    "import sys, pickle, os, keras\n",
    "import h5py, time, inspect, IPython\n",
    "import IPython.display as display\n",
    "config = tf.ConfigProto()\n",
    "config.gpu_options.allow_growth=True"
   ]
  },
  {
   "cell_type": "code",
   "execution_count": 3,
   "metadata": {},
   "outputs": [
    {
     "data": {
      "text/plain": [
       "[name: \"/device:CPU:0\"\n",
       " device_type: \"CPU\"\n",
       " memory_limit: 268435456\n",
       " locality {\n",
       " }\n",
       " incarnation: 9554650987531913927,\n",
       " name: \"/device:XLA_CPU:0\"\n",
       " device_type: \"XLA_CPU\"\n",
       " memory_limit: 17179869184\n",
       " locality {\n",
       " }\n",
       " incarnation: 16062015043385408398\n",
       " physical_device_desc: \"device: XLA_CPU device\",\n",
       " name: \"/device:XLA_GPU:0\"\n",
       " device_type: \"XLA_GPU\"\n",
       " memory_limit: 17179869184\n",
       " locality {\n",
       " }\n",
       " incarnation: 9175293818520174154\n",
       " physical_device_desc: \"device: XLA_GPU device\",\n",
       " name: \"/device:GPU:0\"\n",
       " device_type: \"GPU\"\n",
       " memory_limit: 7400190772\n",
       " locality {\n",
       "   bus_id: 1\n",
       "   links {\n",
       "   }\n",
       " }\n",
       " incarnation: 14409573039205546539\n",
       " physical_device_desc: \"device: 0, name: GeForce RTX 2080 with Max-Q Design, pci bus id: 0000:01:00.0, compute capability: 7.5\"]"
      ]
     },
     "execution_count": 3,
     "metadata": {},
     "output_type": "execute_result"
    }
   ],
   "source": [
    "device_lib.list_local_devices()"
   ]
  },
  {
   "cell_type": "code",
   "execution_count": 4,
   "metadata": {},
   "outputs": [
    {
     "data": {
      "text/plain": [
       "'1.15.0'"
      ]
     },
     "execution_count": 4,
     "metadata": {},
     "output_type": "execute_result"
    }
   ],
   "source": [
    "tf.__version__"
   ]
  },
  {
   "cell_type": "code",
   "execution_count": 5,
   "metadata": {},
   "outputs": [
    {
     "data": {
      "text/plain": [
       "'2.2.4'"
      ]
     },
     "execution_count": 5,
     "metadata": {},
     "output_type": "execute_result"
    }
   ],
   "source": [
    "keras.__version__"
   ]
  },
  {
   "cell_type": "markdown",
   "metadata": {},
   "source": [
    "# Parsing all the `.tfrecords` and make an iterable dataset "
   ]
  },
  {
   "cell_type": "code",
   "execution_count": 6,
   "metadata": {},
   "outputs": [],
   "source": [
    "def parser(record):\n",
    "    image_feature_description = {\n",
    "    'label': tf.io.FixedLenFeature([], tf.int64),\n",
    "    'image_raw': tf.io.VarLenFeature(tf.float32),\n",
    "    }\n",
    "    parsed = tf.io.parse_single_example(record, image_feature_description)\n",
    "    \n",
    "    image = parsed['image_raw']\n",
    "    image = tf.sparse.to_dense(image,default_value = 0)\n",
    "    label = tf.cast(parsed[\"label\"], tf.int32)\n",
    "    \n",
    "    #return {\"image_data\": image}, label\n",
    "    return image, label\n",
    "    "
   ]
  },
  {
   "cell_type": "code",
   "execution_count": 7,
   "metadata": {},
   "outputs": [],
   "source": [
    "def load_dataset(path='', shuffle_buffer_size=None, batch_size=None, compression='GZIP'):\n",
    "    filenames = [file for file in os.listdir(os.path.join(os.getcwd(), path)) if file.endswith('.tfrecord')]\n",
    "    filenames = [os.path.join(path, file) for file in filenames]\n",
    "    print('.tfrecord files:{}'.format(filenames))\n",
    "    raw_image_dataset = tf.data.TFRecordDataset(filenames, compression_type=compression)\n",
    "    print('\\n raw data:{}'.format(raw_image_dataset))\n",
    "    parsed_image_dataset = raw_image_dataset.map(parser)\n",
    "    print('\\n parsed data:{}'.format(parsed_image_dataset))\n",
    "    final_dataset = parsed_image_dataset.shuffle(shuffle_buffer_size).batch(batch_size)\n",
    "    print('\\n final dataset:{}'.format(final_dataset))\n",
    "\n",
    "    return final_dataset"
   ]
  },
  {
   "cell_type": "markdown",
   "metadata": {},
   "source": [
    "* Take 10 images and inspect but only works in eager mode enbale it by adding `tf.compat.v1.enable_eager_execution()` to the `Imports` cell. \n",
    "\n",
    "`for item in parsed_image_dataset.take(10):\n",
    "    print\n",
    "    print('Image Data')\n",
    "    print(item[0])\n",
    "    print(item[0].numpy().sum())\n",
    "    print\n",
    "    print('Label Data')\n",
    "    print(item[1])\n",
    "    print(item[1].numpy())`"
   ]
  },
  {
   "cell_type": "markdown",
   "metadata": {},
   "source": [
    "# Load  `.tfrecords` \n",
    "* Load `.tfrecords` for the training data\n",
    "* See more about [shuffle_buffer_size](https://stackoverflow.com/questions/46444018/meaning-of-buffer-size-in-dataset-map-dataset-prefetch-and-dataset-shuffle)"
   ]
  },
  {
   "cell_type": "code",
   "execution_count": 8,
   "metadata": {},
   "outputs": [
    {
     "name": "stdout",
     "output_type": "stream",
     "text": [
      ".tfrecord files:['40_tfrecords/train/EMNIST_train_strings_4.tfrecord', '40_tfrecords/train/EMNIST_train_strings_34.tfrecord', '40_tfrecords/train/EMNIST_train_strings_27.tfrecord', '40_tfrecords/train/EMNIST_train_strings_38.tfrecord', '40_tfrecords/train/EMNIST_train_strings_9.tfrecord', '40_tfrecords/train/EMNIST_train_strings_12.tfrecord', '40_tfrecords/train/EMNIST_train_strings_6.tfrecord', '40_tfrecords/train/EMNIST_train_strings_37.tfrecord', '40_tfrecords/train/EMNIST_train_strings_24.tfrecord', '40_tfrecords/train/EMNIST_train_strings_25.tfrecord', '40_tfrecords/train/EMNIST_train_strings_32.tfrecord', '40_tfrecords/train/EMNIST_train_strings_26.tfrecord', '40_tfrecords/train/EMNIST_train_strings_13.tfrecord', '40_tfrecords/train/EMNIST_train_strings_15.tfrecord', '40_tfrecords/train/EMNIST_train_strings_35.tfrecord', '40_tfrecords/train/EMNIST_train_strings_16.tfrecord', '40_tfrecords/train/EMNIST_train_strings_3.tfrecord', '40_tfrecords/train/EMNIST_train_strings_5.tfrecord', '40_tfrecords/train/EMNIST_train_strings_28.tfrecord', '40_tfrecords/train/EMNIST_train_strings_33.tfrecord', '40_tfrecords/train/EMNIST_train_strings_19.tfrecord', '40_tfrecords/train/EMNIST_train_strings_10.tfrecord', '40_tfrecords/train/EMNIST_train_strings_2.tfrecord', '40_tfrecords/train/EMNIST_train_strings_36.tfrecord', '40_tfrecords/train/EMNIST_train_strings_0.tfrecord', '40_tfrecords/train/EMNIST_train_strings_8.tfrecord', '40_tfrecords/train/EMNIST_train_strings_14.tfrecord', '40_tfrecords/train/EMNIST_train_strings_31.tfrecord', '40_tfrecords/train/EMNIST_train_strings_29.tfrecord', '40_tfrecords/train/EMNIST_train_strings_22.tfrecord', '40_tfrecords/train/EMNIST_train_strings_39.tfrecord', '40_tfrecords/train/EMNIST_train_strings_7.tfrecord', '40_tfrecords/train/EMNIST_train_strings_18.tfrecord', '40_tfrecords/train/EMNIST_train_strings_30.tfrecord', '40_tfrecords/train/EMNIST_train_strings_11.tfrecord', '40_tfrecords/train/EMNIST_train_strings_1.tfrecord', '40_tfrecords/train/EMNIST_train_strings_17.tfrecord', '40_tfrecords/train/EMNIST_train_strings_20.tfrecord', '40_tfrecords/train/EMNIST_train_strings_23.tfrecord', '40_tfrecords/train/EMNIST_train_strings_21.tfrecord']\n",
      "\n",
      " raw data:<TFRecordDatasetV1 shapes: (), types: tf.string>\n",
      "\n",
      " parsed data:<DatasetV1Adapter shapes: ((?,), ()), types: (tf.float32, tf.int32)>\n",
      "\n",
      " final dataset:<DatasetV1Adapter shapes: ((?, ?), (?,)), types: (tf.float32, tf.int32)>\n"
     ]
    }
   ],
   "source": [
    "BATCH_SIZE = 32\n",
    "SHUFFLE_BUFFER_SIZE = BATCH_SIZE**2\n",
    "\n",
    "#train_dataset = load_dataset('40_tfrecords/train', SHUFFLE_BUFFER_SIZE, BATCH_SIZE) #\n",
    "train_dataset = load_dataset('parallel_tfrecords/train', SHUFFLE_BUFFER_SIZE, BATCH_SIZE)"
   ]
  },
  {
   "cell_type": "markdown",
   "metadata": {},
   "source": [
    "# Train a small NN model using `tf.keras.model.fit` "
   ]
  },
  {
   "cell_type": "code",
   "execution_count": 9,
   "metadata": {},
   "outputs": [],
   "source": [
    "def smol_model():\n",
    "    model = tf.keras.Sequential([\n",
    "        tf.keras.layers.Dense(1500, input_dim=3630, activation='relu'),\n",
    "        tf.keras.layers.Dense(47)\n",
    "    ])\n",
    "\n",
    "    model.compile(optimizer=tf.keras.optimizers.Adam(lr=0.005),\n",
    "                  loss=tf.keras.losses.SparseCategoricalCrossentropy(from_logits=True),\n",
    "                  metrics=['sparse_categorical_accuracy'])\n",
    "    return model\n",
    "    "
   ]
  },
  {
   "cell_type": "code",
   "execution_count": 10,
   "metadata": {},
   "outputs": [
    {
     "name": "stdout",
     "output_type": "stream",
     "text": [
      "WARNING:tensorflow:From /home/visionteam/python37_env/lib/python3.7/site-packages/tensorflow_core/python/ops/resource_variable_ops.py:1630: calling BaseResourceVariable.__init__ (from tensorflow.python.ops.resource_variable_ops) with constraint is deprecated and will be removed in a future version.\n",
      "Instructions for updating:\n",
      "If using Keras pass *_constraint arguments to layers.\n",
      "Model: \"sequential\"\n",
      "_________________________________________________________________\n",
      "Layer (type)                 Output Shape              Param #   \n",
      "=================================================================\n",
      "dense (Dense)                (None, 1500)              5446500   \n",
      "_________________________________________________________________\n",
      "dense_1 (Dense)              (None, 47)                70547     \n",
      "=================================================================\n",
      "Total params: 5,517,047\n",
      "Trainable params: 5,517,047\n",
      "Non-trainable params: 0\n",
      "_________________________________________________________________\n",
      "Train on None steps\n",
      "Epoch 1/3\n",
      "3525/3525 [==============================] - 26s 7ms/step - loss: 1.5530 - sparse_categorical_accuracy: 0.6373\n",
      "Epoch 2/3\n",
      "3525/3525 [==============================] - 25s 7ms/step - loss: 1.2584 - sparse_categorical_accuracy: 0.6979\n",
      "Epoch 3/3\n",
      "3525/3525 [==============================] - 27s 8ms/step - loss: 1.1604 - sparse_categorical_accuracy: 0.7202\n"
     ]
    }
   ],
   "source": [
    "model = smol_model()\n",
    "model.summary()\n",
    "history = model.fit(train_dataset, epochs=3)"
   ]
  },
  {
   "cell_type": "markdown",
   "metadata": {},
   "source": [
    "# Test the model"
   ]
  },
  {
   "cell_type": "code",
   "execution_count": 11,
   "metadata": {},
   "outputs": [
    {
     "name": "stdout",
     "output_type": "stream",
     "text": [
      ".tfrecord files:['40_tfrecords/test/EMNIST_test_strings_0.tfrecord', '40_tfrecords/test/EMNIST_test_strings_1.tfrecord']\n",
      "\n",
      " raw data:<TFRecordDatasetV1 shapes: (), types: tf.string>\n",
      "\n",
      " parsed data:<DatasetV1Adapter shapes: ((?,), ()), types: (tf.float32, tf.int32)>\n",
      "\n",
      " final dataset:<DatasetV1Adapter shapes: ((?, ?), (?,)), types: (tf.float32, tf.int32)>\n",
      "    588/Unknown - 4s 6ms/step - loss: 1.4480 - sparse_categorical_accuracy: 0.6928"
     ]
    },
    {
     "data": {
      "text/plain": [
       "[1.4479922063800754, 0.6928028]"
      ]
     },
     "execution_count": 11,
     "metadata": {},
     "output_type": "execute_result"
    }
   ],
   "source": [
    "test_dataset = load_dataset('40_tfrecords/test', SHUFFLE_BUFFER_SIZE, BATCH_SIZE)\n",
    "model.evaluate(test_dataset)"
   ]
  },
  {
   "cell_type": "markdown",
   "metadata": {},
   "source": [
    "# Restart the notebook to free up the `GPU` and `RAM`"
   ]
  },
  {
   "cell_type": "code",
   "execution_count": 12,
   "metadata": {},
   "outputs": [
    {
     "data": {
      "text/plain": [
       "{'status': 'ok', 'restart': True}"
      ]
     },
     "execution_count": 12,
     "metadata": {},
     "output_type": "execute_result"
    }
   ],
   "source": [
    "IPython.Application.instance().kernel.do_shutdown(True) #automatically restarts kernel"
   ]
  },
  {
   "cell_type": "markdown",
   "metadata": {},
   "source": [
    "# Exercise: Log the RAM usage for the two cases.\n",
    "* How the RAM usage varies when training the model using `.tfrecord` vs direct `NumPy` array.\n",
    "* How does the speed vary?\n",
    "* Plot various metrics like `training cost vs epochs`, `training accuracy vs epochs` etc. These metrics can be found in the dictionary `history` returned by the model."
   ]
  },
  {
   "cell_type": "code",
   "execution_count": null,
   "metadata": {},
   "outputs": [],
   "source": []
  }
 ],
 "metadata": {
  "kernelspec": {
   "display_name": "python37_env",
   "language": "python",
   "name": "python37_env"
  },
  "language_info": {
   "codemirror_mode": {
    "name": "ipython",
    "version": 3
   },
   "file_extension": ".py",
   "mimetype": "text/x-python",
   "name": "python",
   "nbconvert_exporter": "python",
   "pygments_lexer": "ipython3",
   "version": "3.7.5"
  },
  "toc": {
   "base_numbering": 1,
   "nav_menu": {},
   "number_sections": true,
   "sideBar": true,
   "skip_h1_title": false,
   "title_cell": "Table of Contents",
   "title_sidebar": "Contents",
   "toc_cell": false,
   "toc_position": {},
   "toc_section_display": true,
   "toc_window_display": true
  }
 },
 "nbformat": 4,
 "nbformat_minor": 2
}
