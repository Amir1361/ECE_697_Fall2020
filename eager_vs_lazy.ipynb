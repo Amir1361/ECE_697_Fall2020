{
 "cells": [
  {
   "cell_type": "markdown",
   "metadata": {},
   "source": [
    "`Course Instructor`: **John Chiasson**\n",
    "\n",
    "`Author (TA)`: **Ruthvik Vaila**\n",
    "\n",
    "# Notes\n",
    "* We shall see the different modes of computation within `Tensorflow`.\n",
    "* Read [more](https://www.tensorflow.org/guide/eager) about Eager mode. \n",
    "* In `TF2.0` eager mode is the default mode however in `<TF2.0` lazy mode is the default mode.\n",
    "* Tested on `Python 3.7.5` with `Tensorflow 1.15.0` and `Keras 2.2.4`. \n",
    "* Tested on `Python 2.7.17` with `Tensorflow 1.15.3` and `Keras 2.2.4`."
   ]
  },
  {
   "cell_type": "markdown",
   "metadata": {},
   "source": [
    "# Lazy Mode"
   ]
  },
  {
   "cell_type": "markdown",
   "metadata": {},
   "source": [
    "## Imports"
   ]
  },
  {
   "cell_type": "code",
   "execution_count": 1,
   "metadata": {},
   "outputs": [
    {
     "data": {
      "text/plain": [
       "'3.7.5 (default, Nov  7 2019, 10:50:52) \\n[GCC 8.3.0]'"
      ]
     },
     "execution_count": 1,
     "metadata": {},
     "output_type": "execute_result"
    }
   ],
   "source": [
    "import os, sys\n",
    "sys.version"
   ]
  },
  {
   "cell_type": "code",
   "execution_count": 2,
   "metadata": {},
   "outputs": [
    {
     "name": "stderr",
     "output_type": "stream",
     "text": [
      "Using TensorFlow backend.\n"
     ]
    }
   ],
   "source": [
    "import numpy as np\n",
    "import tensorflow as tf\n",
    "import IPython, keras\n",
    "sess= tf.InteractiveSession()\n",
    "from tensorflow.python.client import device_lib\n",
    "run_options = tf.RunOptions(trace_level=tf.RunOptions.FULL_TRACE)\n",
    "run_metadata = tf.RunMetadata()\n",
    "%load_ext tensorboard\n",
    "config = tf.ConfigProto()\n",
    "config.gpu_options.allow_growth=True\n",
    "# this make sure thaat if using a gpu total gpu memory is not gobbled\n",
    "# up by tensorflow and allows growth as required"
   ]
  },
  {
   "cell_type": "code",
   "execution_count": 3,
   "metadata": {},
   "outputs": [
    {
     "data": {
      "text/plain": [
       "[name: \"/device:CPU:0\"\n",
       " device_type: \"CPU\"\n",
       " memory_limit: 268435456\n",
       " locality {\n",
       " }\n",
       " incarnation: 3508486134850239660,\n",
       " name: \"/device:XLA_CPU:0\"\n",
       " device_type: \"XLA_CPU\"\n",
       " memory_limit: 17179869184\n",
       " locality {\n",
       " }\n",
       " incarnation: 16301158018853506559\n",
       " physical_device_desc: \"device: XLA_CPU device\",\n",
       " name: \"/device:XLA_GPU:0\"\n",
       " device_type: \"XLA_GPU\"\n",
       " memory_limit: 17179869184\n",
       " locality {\n",
       " }\n",
       " incarnation: 502816698747054689\n",
       " physical_device_desc: \"device: XLA_GPU device\",\n",
       " name: \"/device:GPU:0\"\n",
       " device_type: \"GPU\"\n",
       " memory_limit: 7420175975\n",
       " locality {\n",
       "   bus_id: 1\n",
       "   links {\n",
       "   }\n",
       " }\n",
       " incarnation: 4548065032312345138\n",
       " physical_device_desc: \"device: 0, name: GeForce RTX 2080 with Max-Q Design, pci bus id: 0000:01:00.0, compute capability: 7.5\"]"
      ]
     },
     "execution_count": 3,
     "metadata": {},
     "output_type": "execute_result"
    }
   ],
   "source": [
    "device_lib.list_local_devices()"
   ]
  },
  {
   "cell_type": "code",
   "execution_count": 4,
   "metadata": {},
   "outputs": [
    {
     "data": {
      "text/plain": [
       "'1.15.0'"
      ]
     },
     "execution_count": 4,
     "metadata": {},
     "output_type": "execute_result"
    }
   ],
   "source": [
    "tf.__version__"
   ]
  },
  {
   "cell_type": "code",
   "execution_count": 5,
   "metadata": {},
   "outputs": [
    {
     "data": {
      "text/plain": [
       "'2.2.4'"
      ]
     },
     "execution_count": 5,
     "metadata": {},
     "output_type": "execute_result"
    }
   ],
   "source": [
    "keras.__version__"
   ]
  },
  {
   "cell_type": "markdown",
   "metadata": {},
   "source": [
    "## Setting up a computation graph"
   ]
  },
  {
   "cell_type": "code",
   "execution_count": 6,
   "metadata": {},
   "outputs": [
    {
     "name": "stdout",
     "output_type": "stream",
     "text": [
      "\n",
      " a_val is:\n",
      "[[0.5338642  0.22223443]\n",
      " [0.54132684 0.33951193]]\n",
      "\n",
      " b_val is: \n",
      " [[0.94638977 0.11635347]\n",
      " [0.58200272 0.46684294]]\n",
      "\n",
      "<tf.Variable 'a:0' shape=(2, 2) dtype=float32_ref>\n",
      "<tf.Variable 'b:0' shape=(2, 2) dtype=float32_ref>\n",
      "Tensor(\"addition:0\", shape=(2, 2), dtype=float32)\n"
     ]
    }
   ],
   "source": [
    "a_val = np.random.rand(2,2)\n",
    "print(\"\\n a_val is:\\n{}\".format(a_val))\n",
    "b_val = np.random.rand(2,2)\n",
    "print(\"\\n b_val is: \\n {}\".format(b_val))\n",
    "\n",
    "\n",
    "a = tf.Variable(initial_value=a_val, dtype=tf.float32, name='a')\n",
    "print()\n",
    "print(a)\n",
    "b = tf.Variable(initial_value=b_val, dtype=tf.float32, name='b')\n",
    "print(b)\n",
    "add = tf.add(a,b,name='addition')\n",
    "print(add)"
   ]
  },
  {
   "cell_type": "markdown",
   "metadata": {},
   "source": [
    "* Notice that the `print` statement didn't really print anything because the variables `a` and `b` haven't been assigned any concrete values."
   ]
  },
  {
   "cell_type": "markdown",
   "metadata": {},
   "source": [
    "## Visualizing the above computation graph"
   ]
  },
  {
   "cell_type": "markdown",
   "metadata": {},
   "source": [
    "* To run the Tensorboard `cd` into the `path` and then execute python -m tensorboard.main --logdir=./\n",
    "* Tensorboard will be started as new tab in your default browser."
   ]
  },
  {
   "cell_type": "code",
   "execution_count": 7,
   "metadata": {},
   "outputs": [],
   "source": [
    "path = '/home/visionteam/tf_tutorials/logs/'\n",
    "writer = tf.summary.FileWriter(path, sess.graph,flush_secs=1)\n",
    "writer.flush()"
   ]
  },
  {
   "cell_type": "code",
   "execution_count": 9,
   "metadata": {},
   "outputs": [
    {
     "data": {
      "text/plain": [
       "Reusing TensorBoard on port 6006 (pid 15295), started 0:02:44 ago. (Use '!kill 15295' to kill it.)"
      ]
     },
     "metadata": {},
     "output_type": "display_data"
    },
    {
     "data": {
      "text/html": [
       "\n",
       "      <iframe id=\"tensorboard-frame-1c1108f7648930c4\" width=\"100%\" height=\"800\" frameborder=\"0\">\n",
       "      </iframe>\n",
       "      <script>\n",
       "        (function() {\n",
       "          const frame = document.getElementById(\"tensorboard-frame-1c1108f7648930c4\");\n",
       "          const url = new URL(\"/\", window.location);\n",
       "          url.port = 6006;\n",
       "          frame.src = url;\n",
       "        })();\n",
       "      </script>\n",
       "  "
      ],
      "text/plain": [
       "<IPython.core.display.HTML object>"
      ]
     },
     "metadata": {},
     "output_type": "display_data"
    }
   ],
   "source": [
    "%tensorboard --logdir {path}\n",
    "# click on the `GRAPHS` tab in the below display"
   ]
  },
  {
   "cell_type": "markdown",
   "metadata": {},
   "source": [
    "## Computing the graph using some constant values."
   ]
  },
  {
   "cell_type": "code",
   "execution_count": 10,
   "metadata": {},
   "outputs": [
    {
     "data": {
      "text/plain": [
       "array([[1.4802539 , 0.33858788],\n",
       "       [1.1233295 , 0.8063549 ]], dtype=float32)"
      ]
     },
     "execution_count": 10,
     "metadata": {},
     "output_type": "execute_result"
    }
   ],
   "source": [
    "sess.run(add, feed_dict={a:a_val, b:b_val})"
   ]
  },
  {
   "cell_type": "markdown",
   "metadata": {},
   "source": [
    "# Restart the notebook to free up the `GPU` and `RAM`."
   ]
  },
  {
   "cell_type": "code",
   "execution_count": 11,
   "metadata": {},
   "outputs": [
    {
     "data": {
      "text/plain": [
       "{'status': 'ok', 'restart': True}"
      ]
     },
     "execution_count": 11,
     "metadata": {},
     "output_type": "execute_result"
    }
   ],
   "source": [
    "IPython.Application.instance().kernel.do_shutdown(True) #automatically restarts kernel"
   ]
  },
  {
   "cell_type": "markdown",
   "metadata": {},
   "source": [
    "# Eager Mode"
   ]
  },
  {
   "cell_type": "markdown",
   "metadata": {},
   "source": [
    "## Imports"
   ]
  },
  {
   "cell_type": "markdown",
   "metadata": {},
   "source": [
    "## Enabling Eager Mode"
   ]
  },
  {
   "cell_type": "code",
   "execution_count": 1,
   "metadata": {},
   "outputs": [],
   "source": [
    "import tensorflow as tf\n",
    "tf.compat.v1.enable_eager_execution()"
   ]
  },
  {
   "cell_type": "markdown",
   "metadata": {},
   "source": [
    "## Imports"
   ]
  },
  {
   "cell_type": "code",
   "execution_count": 2,
   "metadata": {},
   "outputs": [],
   "source": [
    "import numpy as np\n",
    "import IPython\n",
    "sess= tf.InteractiveSession()\n",
    "run_options = tf.RunOptions(trace_level=tf.RunOptions.FULL_TRACE)\n",
    "run_metadata = tf.RunMetadata()\n",
    "%load_ext tensorboard\n",
    "config = tf.ConfigProto()\n",
    "config.gpu_options.allow_growth=True"
   ]
  },
  {
   "cell_type": "markdown",
   "metadata": {},
   "source": [
    "## Computing in Eager mode"
   ]
  },
  {
   "cell_type": "code",
   "execution_count": 3,
   "metadata": {},
   "outputs": [
    {
     "name": "stdout",
     "output_type": "stream",
     "text": [
      "\n",
      " a_val is:\n",
      "[[0.93857048 0.69912493]\n",
      " [0.15659762 0.037682  ]]\n",
      "\n",
      " b_val is: \n",
      " [[0.06772153 0.895245  ]\n",
      " [0.70030068 0.79959559]]\n",
      "\n",
      "<tf.Variable 'a:0' shape=(2, 2) dtype=float32, numpy=\n",
      "array([[0.9385705 , 0.69912493],\n",
      "       [0.15659761, 0.037682  ]], dtype=float32)>\n",
      "<tf.Variable 'b:0' shape=(2, 2) dtype=float32, numpy=\n",
      "array([[0.06772153, 0.895245  ],\n",
      "       [0.7003007 , 0.7995956 ]], dtype=float32)>\n",
      "tf.Tensor(\n",
      "[[1.006292  1.5943699]\n",
      " [0.8568983 0.8372776]], shape=(2, 2), dtype=float32)\n"
     ]
    }
   ],
   "source": [
    "a_val = np.random.rand(2,2)\n",
    "print(\"\\n a_val is:\\n{}\".format(a_val))\n",
    "b_val = np.random.rand(2,2)\n",
    "print(\"\\n b_val is: \\n {}\".format(b_val))\n",
    "\n",
    "\n",
    "a = tf.Variable(initial_value=a_val, dtype=tf.float32, name='a')\n",
    "print()\n",
    "print(a)\n",
    "b = tf.Variable(initial_value=b_val, dtype=tf.float32, name='b')\n",
    "print(b)\n",
    "add = tf.add(a,b,name='addition')\n",
    "print(add)"
   ]
  },
  {
   "cell_type": "markdown",
   "metadata": {},
   "source": [
    "# Restart the notebook to free up the `GPU` and `RAM`."
   ]
  },
  {
   "cell_type": "code",
   "execution_count": null,
   "metadata": {},
   "outputs": [],
   "source": [
    "IPython.Application.instance().kernel.do_shutdown(True) #automatically restarts kernel"
   ]
  }
 ],
 "metadata": {
  "kernelspec": {
   "display_name": "python37_env",
   "language": "python",
   "name": "python37_env"
  },
  "language_info": {
   "codemirror_mode": {
    "name": "ipython",
    "version": 3
   },
   "file_extension": ".py",
   "mimetype": "text/x-python",
   "name": "python",
   "nbconvert_exporter": "python",
   "pygments_lexer": "ipython3",
   "version": "3.7.5"
  },
  "toc": {
   "base_numbering": 1,
   "nav_menu": {},
   "number_sections": true,
   "sideBar": true,
   "skip_h1_title": false,
   "title_cell": "Table of Contents",
   "title_sidebar": "Contents",
   "toc_cell": false,
   "toc_position": {},
   "toc_section_display": true,
   "toc_window_display": true
  }
 },
 "nbformat": 4,
 "nbformat_minor": 2
}
